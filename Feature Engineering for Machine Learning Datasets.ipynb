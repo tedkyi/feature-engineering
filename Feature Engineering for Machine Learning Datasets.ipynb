{
 "cells": [
  {
   "cell_type": "markdown",
   "metadata": {},
   "source": [
    "![](./feature_engineering.jpg)"
   ]
  },
  {
   "cell_type": "markdown",
   "metadata": {},
   "source": [
    "# Feature Engineering for Machine Learning Datasets"
   ]
  },
  {
   "cell_type": "markdown",
   "metadata": {},
   "source": [
    "The book [Feature Engineering for Machine Learning](https://www.oreilly.com/library/view/feature-engineering-for/9781491953235/) by Alice Zheng & Amanda Casari comes with a set of Jupyter notebooks so that you can run the code examples in the book.\n",
    "These notebooks use publicly available data, but does not come with instructions how to download the data onto your system."
   ]
  },
  {
   "cell_type": "markdown",
   "metadata": {},
   "source": [
    "This notebook provides detailed instructions for loading the datasets needed to run the notebooks."
   ]
  },
  {
   "cell_type": "markdown",
   "metadata": {},
   "source": [
    "\n",
    "## Getting Started"
   ]
  },
  {
   "cell_type": "markdown",
   "metadata": {},
   "source": [
    "The notebooks for the book are located in the GitHub repository <https://github.com/alicezheng/feature-engineering-book>.  Decide the directory where you would like to store the files on your system and clone or download the repo there.\n",
    "\n",
    "This notebook will reference your copy of the book repo. You can place this notebook in the same directory.  If you are saving this notebook in a different directory, modify the following cell with the path to the book repo."
   ]
  },
  {
   "cell_type": "code",
   "execution_count": 1,
   "metadata": {},
   "outputs": [],
   "source": [
    "REPO_DIR = \"./\""
   ]
  },
  {
   "cell_type": "markdown",
   "metadata": {},
   "source": [
    "## Chapter Two\n",
    "\n",
    "We start with the data used in chapter two.  This notebook will be updated as we read the rest of the book with instructions for all of the other datasets needed."
   ]
  },
  {
   "cell_type": "markdown",
   "metadata": {},
   "source": [
    "### Yelp Dataset"
   ]
  },
  {
   "cell_type": "markdown",
   "metadata": {},
   "source": [
    "Since the Feature Engineering book was written, Yelp has updated its public dataset.  I wasn't able to find an archive of the exact same version that is used in the book.  The latest Yelp dataset is in the same format, so we can use it, and the code examples in the book will still work.  The full Yelp dataset is 10 GB.\n",
    "\n",
    "I didn't work out a really easy way to download the Yelp dataset (feel free to contribute fully automated download code).\n",
    "You can manually download the Yelp data either from the kaggle website or the Yelp website.  I recommend using the kaggle website."
   ]
  },
  {
   "cell_type": "markdown",
   "metadata": {},
   "source": [
    "#### Kaggle website instructions"
   ]
  },
  {
   "cell_type": "markdown",
   "metadata": {},
   "source": [
    "To download the Yelp dataset from the kaggle website:\n",
    "\n",
    "* You must have a kaggle login.  If you don't have one, go to <https://kaggle.com> and sign up for free.\n",
    "* Go to <https://www.kaggle.com/yelp-dataset/yelp-dataset>\n",
    "* In the menu area, click the Download link (it's next to the blue New Notebook button)\n",
    "* Create the following subfolders underneath your notebook directory:  **data/yelp/v6/yelp_dataset_challenge_academic_dataset**\n",
    "* Save the ZIP file into the above folder\n",
    "* Unzip its contents into this same folder or run the cell below"
   ]
  },
  {
   "cell_type": "code",
   "execution_count": 2,
   "metadata": {},
   "outputs": [],
   "source": [
    "# Unzip the files into this subdirectory\n",
    "from zipfile import ZipFile \n",
    "\n",
    "folder_path = REPO_DIR + \"data/yelp/v6/yelp_dataset_challenge_academic_dataset/\"\n",
    "fn = folder_path + \"10100_1035793_bundle_archive.zip\"    # Note update the filename if yours doesn't match\n",
    "with ZipFile(fn, 'r') as zip: \n",
    "    zip.extractall(path=folder_path) "
   ]
  },
  {
   "cell_type": "markdown",
   "metadata": {},
   "source": [
    "#### Yelp website instructions"
   ]
  },
  {
   "cell_type": "markdown",
   "metadata": {},
   "source": [
    "These instructions are only if you don't want to download the Yelp dataset from the kaggle website.  To download the Yelp dataset from the Yelp website:\n",
    "\n",
    "* Go to <https://www.yelp.com/dataset>\n",
    "* Click the Download Dataset Button\n",
    "* Fill out the form with your personal information and click the Download button\n",
    "* Click the Download JSON button\n",
    "* Create the following subfolders underneath your notebook directory:  **data/yelp/v6/yelp_dataset_challenge_academic_dataset**\n",
    "* Save the **yelp_dataset.tar** file into the above folder\n",
    "* Extract the contents into this same folder or run the cell below"
   ]
  },
  {
   "cell_type": "code",
   "execution_count": 3,
   "metadata": {},
   "outputs": [],
   "source": [
    "import tarfile\n",
    "folder_path = fn = REPO_DIR + \"data/yelp/v6/yelp_dataset_challenge_academic_dataset/\"\n",
    "my_tar = tarfile.open(folder_path + 'yelp_dataset.tar')\n",
    "my_tar.extractall(folder_path)\n",
    "my_tar.close()"
   ]
  },
  {
   "cell_type": "markdown",
   "metadata": {},
   "source": [
    "#### Verifying the download\n",
    "If you have downloaded all of the files into the proper subdirectory, running the follow cell should print the success message."
   ]
  },
  {
   "cell_type": "code",
   "execution_count": 4,
   "metadata": {
    "scrolled": true
   },
   "outputs": [
    {
     "name": "stdout",
     "output_type": "stream",
     "text": [
      "Success!!! The business JSON file was successfully loaded.\n"
     ]
    }
   ],
   "source": [
    "import pandas as pd\n",
    "import json\n",
    "fn = REPO_DIR + \"data/yelp/v6/yelp_dataset_challenge_academic_dataset/yelp_academic_dataset_business.json\"\n",
    "try:\n",
    "    biz_f = open(fn, encoding=\"utf-8\")\n",
    "    biz_df = pd.DataFrame([json.loads(x) for x in biz_f.readlines()])\n",
    "    print(\"Success!!! The business JSON file was successfully loaded.\")\n",
    "    biz_f.close()\n",
    "    del(fn, biz_f, biz_df)\n",
    "except:\n",
    "    raise Exception(\"Error, the business JSON file could not be loaded.\")"
   ]
  },
  {
   "cell_type": "markdown",
   "metadata": {},
   "source": [
    "### News Popularity Dataset"
   ]
  },
  {
   "cell_type": "markdown",
   "metadata": {},
   "source": [
    "The News Popularity dataset can be downloaded from the UCI machine learning datasets.  This dataset is only 24 MB."
   ]
  },
  {
   "cell_type": "code",
   "execution_count": 5,
   "metadata": {},
   "outputs": [],
   "source": [
    "# Download the dataset ZIP file\n",
    "import requests\n",
    "import os.path\n",
    "\n",
    "data_path = REPO_DIR + \"data/\"\n",
    "\n",
    "if not(os.path.exists(data_path + \"OnlineNewsPopularity\\OnlineNewsPopularity.csv\")):\n",
    "    myfile = requests.get(\"http://archive.ics.uci.edu/ml/machine-learning-databases/00332/OnlineNewsPopularity.zip\")\n",
    "    file = open(data_path + 'OnlineNewsPopularity.zip', 'wb')\n",
    "    file.write(myfile.content)\n",
    "    file.close()\n",
    "    del(myfile)"
   ]
  },
  {
   "cell_type": "code",
   "execution_count": 6,
   "metadata": {},
   "outputs": [],
   "source": [
    "# Unzip the CSV file into the subdirectory\n",
    "from zipfile import ZipFile \n",
    "\n",
    "data_path = REPO_DIR + \"data/\"\n",
    "with ZipFile(data_path + 'OnlineNewsPopularity.zip', 'r') as zip: \n",
    "    zip.extractall(path=data_path) "
   ]
  },
  {
   "cell_type": "markdown",
   "metadata": {},
   "source": [
    "#### Verifying the download\n",
    "If you have downloaded Online News Popularity CSV file into the proper subdirectory, running the follow cell should print the success message."
   ]
  },
  {
   "cell_type": "code",
   "execution_count": 7,
   "metadata": {
    "scrolled": true
   },
   "outputs": [
    {
     "name": "stdout",
     "output_type": "stream",
     "text": [
      "Success!!! The Online News Popularity CSV file was successfully loaded.\n"
     ]
    }
   ],
   "source": [
    "import pandas as pd\n",
    "\n",
    "try:\n",
    "    news_df = pd.read_csv(REPO_DIR + \"data/OnlineNewsPopularity/OnlineNewsPopularity.csv\", delimiter=\", \", engine=\"python\")\n",
    "    print(\"Success!!! The Online News Popularity CSV file was successfully loaded.\")\n",
    "    del(news_df)\n",
    "except:\n",
    "    raise Exception(\"Error, the Online News Popularity CSV file could not be loaded.\")"
   ]
  },
  {
   "cell_type": "markdown",
   "metadata": {},
   "source": [
    "## To be continued...\n",
    "\n",
    "As we read through the book, instructions for the other datasets used will be added here."
   ]
  },
  {
   "cell_type": "code",
   "execution_count": null,
   "metadata": {},
   "outputs": [],
   "source": []
  }
 ],
 "metadata": {
  "kernelspec": {
   "display_name": "Python 3",
   "language": "python",
   "name": "python3"
  },
  "language_info": {
   "codemirror_mode": {
    "name": "ipython",
    "version": 3
   },
   "file_extension": ".py",
   "mimetype": "text/x-python",
   "name": "python",
   "nbconvert_exporter": "python",
   "pygments_lexer": "ipython3",
   "version": "3.7.4"
  }
 },
 "nbformat": 4,
 "nbformat_minor": 2
}
